{
 "cells": [
  {
   "cell_type": "markdown",
   "metadata": {
    "id": "R6NHgAYkxqSl"
   },
   "source": [
    "## Read Inventory"
   ]
  },
  {
   "cell_type": "code",
   "execution_count": 248,
   "metadata": {
    "id": "jkJT24jqug9n"
   },
   "outputs": [],
   "source": [
    "import json\n",
    "\n",
    "fd = open(\"record.json\",'r')\n",
    "r = fd.read()\n",
    "fd.close()\n",
    "\n",
    "records = json.loads(r)"
   ]
  },
  {
   "cell_type": "code",
   "execution_count": 249,
   "metadata": {
    "colab": {
     "base_uri": "https://localhost:8080/"
    },
    "id": "CcLYokrlus6z",
    "outputId": "525ffebc-7e32-463b-b0a4-2e6e9fc73f7c"
   },
   "outputs": [
    {
     "data": {
      "text/plain": [
       "{'1001': {'name': 'Choco Cake',\n",
       "  'pr': 100,\n",
       "  'qn': 127,\n",
       "  'category': 'Cake',\n",
       "  'rating': 10},\n",
       " '1002': {'name': 'Milk Cake',\n",
       "  'pr': 500,\n",
       "  'qn': 45,\n",
       "  'category': 'Cake',\n",
       "  'rating': 9},\n",
       " '1003': {'name': 'Strawberry Cake',\n",
       "  'pr': 700,\n",
       "  'qn': 60,\n",
       "  'category': 'Cake',\n",
       "  'rating': 10},\n",
       " '1004': {'name': 'Banana Cake',\n",
       "  'pr': 400,\n",
       "  'qn': 70,\n",
       "  'category': 'Cake',\n",
       "  'rating': 8},\n",
       " '1005': {'name': 'Lemon Yoghurt Cake',\n",
       "  'pr': 700,\n",
       "  'qn': 10,\n",
       "  'category': 'Cake',\n",
       "  'rating': 9},\n",
       " '1006': {'name': 'Carrot and Walnut Cake',\n",
       "  'pr': 1000,\n",
       "  'qn': 50,\n",
       "  'category': 'Cake',\n",
       "  'rating': 10},\n",
       " '1007': {'name': 'Flourless Orange Cake',\n",
       "  'pr': 800,\n",
       "  'qn': 19,\n",
       "  'category': 'Cake',\n",
       "  'rating': 9},\n",
       " '1008': {'name': 'Cadbury Dairy Milk Silk Roast Almond Bars',\n",
       "  'pr': 99,\n",
       "  'qn': 70,\n",
       "  'category': 'Chocolate',\n",
       "  'rating': 10},\n",
       " '1009': {'name': 'Cadbury 5 Star Home Treats Bars',\n",
       "  'pr': 89,\n",
       "  'qn': 69,\n",
       "  'category': 'Chocolate',\n",
       "  'rating': 10},\n",
       " '1010': {'name': 'Cadbury Dairy Milk Silk Bubbly Chocolate Bar',\n",
       "  'pr': 498,\n",
       "  'qn': 30,\n",
       "  'category': 'Chocolate',\n",
       "  'rating': 10},\n",
       " '1011': {'name': 'Cadbury Dairy Milk Chocolate Bars',\n",
       "  'pr': 20,\n",
       "  'qn': 195,\n",
       "  'category': 'Chocolate',\n",
       "  'rating': 10},\n",
       " '1012': {'name': 'Cadbury Dairy Milk Silk Mousse Bars',\n",
       "  'pr': 80,\n",
       "  'qn': 100,\n",
       "  'category': 'Chocolate',\n",
       "  'rating': 10},\n",
       " '1013': {'name': 'Cadbury Dairy Milk Silk Fruit and Nut Chocolate Bars',\n",
       "  'pr': 70,\n",
       "  'qn': 100,\n",
       "  'category': 'Chocolate',\n",
       "  'rating': 10},\n",
       " '1014': {'name': 'Cadbury Dairy Milk Crispello Bars',\n",
       "  'pr': 30,\n",
       "  'qn': 94,\n",
       "  'category': 'Chocolate',\n",
       "  'rating': 10},\n",
       " '1015': {'name': 'Nestle Kitkat Dessert Delight Choco Pudding Bars',\n",
       "  'pr': 55,\n",
       "  'qn': 170,\n",
       "  'category': 'Chocolate',\n",
       "  'rating': 10},\n",
       " '1016': {'name': 'Nestle Munch Bars',\n",
       "  'pr': 100,\n",
       "  'qn': 70,\n",
       "  'category': 'Chocolate',\n",
       "  'rating': 10},\n",
       " '1017': {'name': 'Cadbury Perk Chocolate Home Treats Bars',\n",
       "  'pr': 425,\n",
       "  'qn': 60,\n",
       "  'category': 'Chocolate',\n",
       "  'rating': 10},\n",
       " '1018': {'name': 'Mountain Dew',\n",
       "  'pr': 40,\n",
       "  'qn': 99,\n",
       "  'category': 'Soft Drink',\n",
       "  'rating': 10},\n",
       " '1019': {'name': 'FROOTI Mango Drink',\n",
       "  'pr': 20,\n",
       "  'qn': 100,\n",
       "  'category': 'Fruit Juice',\n",
       "  'rating': 10},\n",
       " '1020': {'name': 'Slice Mango Drink',\n",
       "  'pr': 35,\n",
       "  'qn': 96,\n",
       "  'category': 'Fruit Juice',\n",
       "  'rating': 10},\n",
       " '1021': {'name': 'Coca-Cola Can',\n",
       "  'pr': 30,\n",
       "  'qn': 100,\n",
       "  'category': 'Soft Drink',\n",
       "  'rating': 10},\n",
       " '1022': {'name': 'Coca-Cola Bottle',\n",
       "  'pr': 40,\n",
       "  'qn': 60,\n",
       "  'category': 'Soft Drink',\n",
       "  'rating': 10},\n",
       " '1023': {'name': 'OREO Choco Biscuits Cream Sandwich',\n",
       "  'pr': 30,\n",
       "  'qn': 100,\n",
       "  'category': 'Biscuit',\n",
       "  'rating': 10},\n",
       " '1024': {'name': 'PARLE G Gold Biscuits',\n",
       "  'pr': 25,\n",
       "  'qn': 58,\n",
       "  'category': 'Biscuit',\n",
       "  'rating': 9},\n",
       " '1025': {'name': 'BRITANNIA Bourbon Biscuits',\n",
       "  'pr': 30,\n",
       "  'qn': 25,\n",
       "  'category': 'Biscuit',\n",
       "  'rating': 10},\n",
       " '1026': {'name': 'Maggi Masala Instant Noodles',\n",
       "  'pr': 10,\n",
       "  'qn': 90,\n",
       "  'category': 'Noodles',\n",
       "  'rating': 10},\n",
       " '1027': {'name': \"Lay's American Style Cream and Onion Flavour Chips\",\n",
       "  'pr': 10,\n",
       "  'qn': 74,\n",
       "  'category': 'Chips',\n",
       "  'rating': 10},\n",
       " '1028': {'name': 'Bingo Mad Angles',\n",
       "  'pr': 10,\n",
       "  'qn': 100,\n",
       "  'category': 'Chips',\n",
       "  'rating': 10},\n",
       " '1029': {'name': 'YIPPEE Magic Masala Instant Noodles',\n",
       "  'pr': 20,\n",
       "  'qn': 50,\n",
       "  'category': 'Noodles',\n",
       "  'rating': 10},\n",
       " '1030': {'name': 'Bingo Tedhe Medhe',\n",
       "  'pr': 20,\n",
       "  'qn': 36,\n",
       "  'category': 'Chips',\n",
       "  'rating': 10}}"
      ]
     },
     "execution_count": 249,
     "metadata": {},
     "output_type": "execute_result"
    }
   ],
   "source": [
    "records"
   ]
  },
  {
   "cell_type": "markdown",
   "metadata": {},
   "source": [
    "# Menu"
   ]
  },
  {
   "cell_type": "code",
   "execution_count": 238,
   "metadata": {},
   "outputs": [
    {
     "name": "stdout",
     "output_type": "stream",
     "text": [
      "*********************************List of Products***************************************\n",
      "1001    Choco Cake\n",
      "1002    Milk Cake\n",
      "1003    Strawberry Cake\n",
      "1004    Banana Cake\n",
      "1005    Lemon Yoghurt Cake\n",
      "1006    Carrot and Walnut Cake\n",
      "1007    Flourless Orange Cake\n",
      "1008    Cadbury Dairy Milk Silk Roast Almond Bars\n",
      "1009    Cadbury 5 Star Home Treats Bars\n",
      "1010    Cadbury Dairy Milk Silk Bubbly Chocolate Bar\n",
      "1011    Cadbury Dairy Milk Chocolate Bars\n",
      "1012    Cadbury Dairy Milk Silk Mousse Bars\n",
      "1013    Cadbury Dairy Milk Silk Fruit and Nut Chocolate Bars\n",
      "1014    Cadbury Dairy Milk Crispello Bars\n",
      "1015    Nestle Kitkat Dessert Delight Choco Pudding Bars\n",
      "1016    Nestle Munch Bars\n",
      "1017    Cadbury Perk Chocolate Home Treats Bars\n",
      "1018    Mountain Dew\n",
      "1019    FROOTI Mango Drink\n",
      "1020    Slice Mango Drink\n",
      "1021    Coca-Cola Can\n",
      "1022    Coca-Cola Bottle\n",
      "1023    OREO Choco Biscuits Cream Sandwich\n",
      "1024    PARLE G Gold Biscuits\n",
      "1025    BRITANNIA Bourbon Biscuits\n",
      "1026    Maggi Masala Instant Noodles\n",
      "1027    Lay's American Style Cream and Onion Flavour Chips\n",
      "1028    Bingo Mad Angles\n",
      "1029    YIPPEE Magic Masala Instant Noodles\n",
      "1030    Bingo Tedhe Medhe\n",
      "****************************************************************************************\n"
     ]
    }
   ],
   "source": [
    "print(\"*********************************List of Products***************************************\")\n",
    "for record in records.items():\n",
    "    print(record[0] + \"    \" + record[1]['name'])\n",
    "print(\"****************************************************************************************\")"
   ]
  },
  {
   "cell_type": "markdown",
   "metadata": {
    "id": "WI5f7HTuxwzb"
   },
   "source": [
    "## Purchase"
   ]
  },
  {
   "cell_type": "code",
   "execution_count": 239,
   "metadata": {
    "colab": {
     "base_uri": "https://localhost:8080/"
    },
    "id": "c4E4eIvyuth0",
    "outputId": "91896933-af33-4e3e-ad2b-478c1243c6a3"
   },
   "outputs": [
    {
     "name": "stdout",
     "output_type": "stream",
     "text": [
      "Enter the product_Id: 1030\n",
      "Enter the quantity: 2\n",
      "****************************Bill**********************************\n",
      "------------------------------------------------------------------\n",
      "Product:  Bingo Tedhe Medhe\n",
      "Price:  20\n",
      "Quantity:  2\n",
      "------------------------------------------------------------------\n",
      "Billing Amount:  40\n",
      "------------------------------------------------------------------\n",
      "******************************************************************\n"
     ]
    }
   ],
   "source": [
    "ui_prod  = str(input(\"Enter the product_Id: \"))\n",
    "ui_quant = int(input(\"Enter the quantity: \"))\n",
    "sold_quant = 0\n",
    "\n",
    "if(records[ui_prod]['qn'] > 0):\n",
    "    if(ui_quant <= records[ui_prod]['qn']):\n",
    "        sold_quant = ui_quant\n",
    "        print(\"****************************Bill**********************************\")\n",
    "        print(\"------------------------------------------------------------------\")\n",
    "        print(\"Product: \", records[ui_prod]['name'])\n",
    "        print(\"Price: \", records[ui_prod]['pr'])\n",
    "        print(\"Quantity: \", ui_quant)\n",
    "        print(\"------------------------------------------------------------------\")\n",
    "        print(\"Billing Amount: \", records[ui_prod]['pr'] * ui_quant)\n",
    "        print(\"------------------------------------------------------------------\")\n",
    "        print(\"******************************************************************\")\n",
    "        records[ui_prod]['qn'] -= ui_quant\n",
    "    else:\n",
    "        print(\"Sorry! We have only {} {}\".format(records[ui_prod]['qn'],records[ui_prod]['name']))\n",
    "        print(\"If you want to purchase only {} {}, Say Y/N\".format(records[ui_prod]['qn'],records[ui_prod]['name']))\n",
    "        check = str(input())\n",
    "        if(check == 'Y' or check == 'y'):\n",
    "            sold_quant = records[ui_prod]['qn']\n",
    "            print(\"****************************Bill**********************************\")\n",
    "            print(\"------------------------------------------------------------------\")\n",
    "            print(\"Product: \", records[ui_prod]['name'])\n",
    "            print(\"Price: \", records[ui_prod]['pr'])\n",
    "            print(\"Quantity: \", records[ui_prod]['qn'])\n",
    "            print(\"------------------------------------------------------------------\")\n",
    "            print(\"Billing Amount: \", records[ui_prod]['pr'] * records[ui_prod]['qn'])\n",
    "            print(\"------------------------------------------------------------------\")\n",
    "            print(\"******************************************************************\")\n",
    "            records[ui_prod]['qn'] = 0\n",
    "        else:\n",
    "            print(\"Have a nice day.\")\n",
    "else:\n",
    "    print(\"Sorry! {} are out of stock\".format(records[ui_prod]['name']))"
   ]
  },
  {
   "cell_type": "markdown",
   "metadata": {
    "id": "3h8S8JBVx1_D"
   },
   "source": [
    "## Update Inventory after purchase"
   ]
  },
  {
   "cell_type": "code",
   "execution_count": 240,
   "metadata": {
    "id": "TO68fUvvwzXt"
   },
   "outputs": [],
   "source": [
    "js = json.dumps(records)\n",
    "\n",
    "fd = open(\"record.json\",'w')\n",
    "fd.write(js)\n",
    "fd.close()"
   ]
  },
  {
   "cell_type": "markdown",
   "metadata": {
    "id": "pl_p5yDpyu_9"
   },
   "source": [
    "## Sales JSON"
   ]
  },
  {
   "cell_type": "code",
   "execution_count": 241,
   "metadata": {},
   "outputs": [],
   "source": [
    "fd = open('sales.json','r')\n",
    "r = fd.read()\n",
    "fd.close()"
   ]
  },
  {
   "cell_type": "code",
   "execution_count": 242,
   "metadata": {},
   "outputs": [],
   "source": [
    "sales = json.loads(r)"
   ]
  },
  {
   "cell_type": "code",
   "execution_count": 243,
   "metadata": {},
   "outputs": [
    {
     "data": {
      "text/plain": [
       "{'1': {'prod': '1001',\n",
       "  'name': 'Choco Cake',\n",
       "  'pr': 100,\n",
       "  'qn': 5,\n",
       "  'amount': 500,\n",
       "  'time': 'Mon Sep  6 14:00:05 2021'},\n",
       " '2': {'prod': '1002',\n",
       "  'name': 'Milk Cake',\n",
       "  'pr': 500,\n",
       "  'qn': 10,\n",
       "  'amount': 5000,\n",
       "  'time': 'Mon Sep  6 14:01:12 2021'},\n",
       " '3': {'prod': '1005',\n",
       "  'name': 'Lemon Yoghurt Cake',\n",
       "  'pr': 700,\n",
       "  'qn': 40,\n",
       "  'amount': 28000,\n",
       "  'time': 'Mon Sep  6 14:02:50 2021'},\n",
       " '4': {'prod': '1009',\n",
       "  'name': 'Cadbury 5 Star Home Treats Bars',\n",
       "  'pr': 89,\n",
       "  'qn': 10,\n",
       "  'amount': 890,\n",
       "  'time': 'Mon Sep  6 14:03:33 2021'},\n",
       " '5': {'prod': '1011',\n",
       "  'name': 'Cadbury Dairy Milk Chocolate Bars',\n",
       "  'pr': 20,\n",
       "  'qn': 5,\n",
       "  'amount': 100,\n",
       "  'time': 'Mon Sep  6 14:04:09 2021'},\n",
       " '6': {'prod': '1014',\n",
       "  'name': 'Cadbury Dairy Milk Crispello Bars',\n",
       "  'pr': 30,\n",
       "  'qn': 2,\n",
       "  'amount': 60,\n",
       "  'time': 'Mon Sep  6 14:05:09 2021'},\n",
       " '7': {'prod': '1018',\n",
       "  'name': 'Mountain Dew',\n",
       "  'pr': 40,\n",
       "  'qn': 1,\n",
       "  'amount': 40,\n",
       "  'time': 'Mon Sep  6 14:05:58 2021'},\n",
       " '8': {'prod': '1020',\n",
       "  'name': 'Slice Mango Drink',\n",
       "  'pr': 35,\n",
       "  'qn': 4,\n",
       "  'amount': 140,\n",
       "  'time': 'Mon Sep  6 14:06:39 2021'},\n",
       " '9': {'prod': '1026',\n",
       "  'name': 'Maggi Masala Instant Noodles',\n",
       "  'pr': 10,\n",
       "  'qn': 10,\n",
       "  'amount': 100,\n",
       "  'time': 'Mon Sep  6 14:13:06 2021'},\n",
       " '10': {'prod': '1027',\n",
       "  'name': \"Lay's American Style Cream and Onion Flavour Chips\",\n",
       "  'pr': 10,\n",
       "  'qn': 26,\n",
       "  'amount': 260,\n",
       "  'time': 'Mon Sep  6 14:13:46 2021'},\n",
       " '11': {'prod': '1030',\n",
       "  'name': 'Bingo Tedhe Medhe',\n",
       "  'pr': 20,\n",
       "  'qn': 2,\n",
       "  'amount': 40,\n",
       "  'time': 'Mon Sep  6 14:14:27 2021'},\n",
       " '12': {'prod': '1009',\n",
       "  'name': 'Cadbury 5 Star Home Treats Bars',\n",
       "  'pr': 89,\n",
       "  'qn': 16,\n",
       "  'amount': 1424,\n",
       "  'time': 'Mon Sep  6 14:15:05 2021'},\n",
       " '13': {'prod': '1014',\n",
       "  'name': 'Cadbury Dairy Milk Crispello Bars',\n",
       "  'pr': 30,\n",
       "  'qn': 4,\n",
       "  'amount': 120,\n",
       "  'time': 'Mon Sep  6 14:15:46 2021'},\n",
       " '14': {'prod': '1024',\n",
       "  'name': 'PARLE G Gold Biscuits',\n",
       "  'pr': 25,\n",
       "  'qn': 2,\n",
       "  'amount': 50,\n",
       "  'time': 'Mon Sep  6 14:16:45 2021'}}"
      ]
     },
     "execution_count": 243,
     "metadata": {},
     "output_type": "execute_result"
    }
   ],
   "source": [
    "sales"
   ]
  },
  {
   "cell_type": "code",
   "execution_count": 244,
   "metadata": {},
   "outputs": [],
   "source": [
    "import time\n",
    "if(sold_quant > 0):\n",
    "    sales[str(len(sales)+1)] = {'prod' : ui_prod,'name': records[ui_prod]['name'], 'pr': records[ui_prod]['pr'], 'qn' : sold_quant, 'amount': records[ui_prod]['pr'] * sold_quant, 'time': time.ctime()}"
   ]
  },
  {
   "cell_type": "code",
   "execution_count": 245,
   "metadata": {},
   "outputs": [
    {
     "data": {
      "text/plain": [
       "{'1': {'prod': '1001',\n",
       "  'name': 'Choco Cake',\n",
       "  'pr': 100,\n",
       "  'qn': 5,\n",
       "  'amount': 500,\n",
       "  'time': 'Mon Sep  6 14:00:05 2021'},\n",
       " '2': {'prod': '1002',\n",
       "  'name': 'Milk Cake',\n",
       "  'pr': 500,\n",
       "  'qn': 10,\n",
       "  'amount': 5000,\n",
       "  'time': 'Mon Sep  6 14:01:12 2021'},\n",
       " '3': {'prod': '1005',\n",
       "  'name': 'Lemon Yoghurt Cake',\n",
       "  'pr': 700,\n",
       "  'qn': 40,\n",
       "  'amount': 28000,\n",
       "  'time': 'Mon Sep  6 14:02:50 2021'},\n",
       " '4': {'prod': '1009',\n",
       "  'name': 'Cadbury 5 Star Home Treats Bars',\n",
       "  'pr': 89,\n",
       "  'qn': 10,\n",
       "  'amount': 890,\n",
       "  'time': 'Mon Sep  6 14:03:33 2021'},\n",
       " '5': {'prod': '1011',\n",
       "  'name': 'Cadbury Dairy Milk Chocolate Bars',\n",
       "  'pr': 20,\n",
       "  'qn': 5,\n",
       "  'amount': 100,\n",
       "  'time': 'Mon Sep  6 14:04:09 2021'},\n",
       " '6': {'prod': '1014',\n",
       "  'name': 'Cadbury Dairy Milk Crispello Bars',\n",
       "  'pr': 30,\n",
       "  'qn': 2,\n",
       "  'amount': 60,\n",
       "  'time': 'Mon Sep  6 14:05:09 2021'},\n",
       " '7': {'prod': '1018',\n",
       "  'name': 'Mountain Dew',\n",
       "  'pr': 40,\n",
       "  'qn': 1,\n",
       "  'amount': 40,\n",
       "  'time': 'Mon Sep  6 14:05:58 2021'},\n",
       " '8': {'prod': '1020',\n",
       "  'name': 'Slice Mango Drink',\n",
       "  'pr': 35,\n",
       "  'qn': 4,\n",
       "  'amount': 140,\n",
       "  'time': 'Mon Sep  6 14:06:39 2021'},\n",
       " '9': {'prod': '1026',\n",
       "  'name': 'Maggi Masala Instant Noodles',\n",
       "  'pr': 10,\n",
       "  'qn': 10,\n",
       "  'amount': 100,\n",
       "  'time': 'Mon Sep  6 14:13:06 2021'},\n",
       " '10': {'prod': '1027',\n",
       "  'name': \"Lay's American Style Cream and Onion Flavour Chips\",\n",
       "  'pr': 10,\n",
       "  'qn': 26,\n",
       "  'amount': 260,\n",
       "  'time': 'Mon Sep  6 14:13:46 2021'},\n",
       " '11': {'prod': '1030',\n",
       "  'name': 'Bingo Tedhe Medhe',\n",
       "  'pr': 20,\n",
       "  'qn': 2,\n",
       "  'amount': 40,\n",
       "  'time': 'Mon Sep  6 14:14:27 2021'},\n",
       " '12': {'prod': '1009',\n",
       "  'name': 'Cadbury 5 Star Home Treats Bars',\n",
       "  'pr': 89,\n",
       "  'qn': 16,\n",
       "  'amount': 1424,\n",
       "  'time': 'Mon Sep  6 14:15:05 2021'},\n",
       " '13': {'prod': '1014',\n",
       "  'name': 'Cadbury Dairy Milk Crispello Bars',\n",
       "  'pr': 30,\n",
       "  'qn': 4,\n",
       "  'amount': 120,\n",
       "  'time': 'Mon Sep  6 14:15:46 2021'},\n",
       " '14': {'prod': '1024',\n",
       "  'name': 'PARLE G Gold Biscuits',\n",
       "  'pr': 25,\n",
       "  'qn': 2,\n",
       "  'amount': 50,\n",
       "  'time': 'Mon Sep  6 14:16:45 2021'},\n",
       " '15': {'prod': '1030',\n",
       "  'name': 'Bingo Tedhe Medhe',\n",
       "  'pr': 20,\n",
       "  'qn': 2,\n",
       "  'amount': 40,\n",
       "  'time': 'Mon Sep  6 14:17:25 2021'}}"
      ]
     },
     "execution_count": 245,
     "metadata": {},
     "output_type": "execute_result"
    }
   ],
   "source": [
    "sales"
   ]
  },
  {
   "cell_type": "code",
   "execution_count": 246,
   "metadata": {},
   "outputs": [],
   "source": [
    "data = json.dumps(sales)"
   ]
  },
  {
   "cell_type": "code",
   "execution_count": 247,
   "metadata": {},
   "outputs": [],
   "source": [
    "fd = open('sales.json','w')\n",
    "fd.write(data)\n",
    "fd.close()"
   ]
  },
  {
   "cell_type": "code",
   "execution_count": null,
   "metadata": {},
   "outputs": [],
   "source": []
  }
 ],
 "metadata": {
  "colab": {
   "name": "Purchasing Products",
   "provenance": []
  },
  "kernelspec": {
   "display_name": "Python 3",
   "language": "python",
   "name": "python3"
  },
  "language_info": {
   "codemirror_mode": {
    "name": "ipython",
    "version": 3
   },
   "file_extension": ".py",
   "mimetype": "text/x-python",
   "name": "python",
   "nbconvert_exporter": "python",
   "pygments_lexer": "ipython3",
   "version": "3.8.3"
  }
 },
 "nbformat": 4,
 "nbformat_minor": 1
}
